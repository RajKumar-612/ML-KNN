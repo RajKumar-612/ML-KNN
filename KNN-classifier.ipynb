{
 "cells": [
  {
   "cell_type": "markdown",
   "id": "a23f145d",
   "metadata": {},
   "source": [
    "# HW-1\n",
    "### Team Members:\n",
    "1. Raj Kumar Mannam - 1002126524\n",
    "2. Manisha Varma Bharatha - 1002034501\n",
    "3. Balaji Bonagiri - 1002069262"
   ]
  },
  {
   "cell_type": "markdown",
   "id": "d2a0f574",
   "metadata": {},
   "source": [
    "**Import libraries**"
   ]
  },
  {
   "cell_type": "code",
   "execution_count": 50,
   "id": "1c27091d",
   "metadata": {},
   "outputs": [],
   "source": [
    "import h5py\n",
    "import numpy as np\n",
    "import matplotlib.pyplot as plt\n",
    "from sklearn.neighbors import KNeighborsClassifier\n",
    "from sklearn.metrics import accuracy_score, confusion_matrix, precision_recall_fscore_support\n",
    "from sklearn.model_selection import cross_val_score\n"
   ]
  },
  {
   "cell_type": "markdown",
   "id": "b14a451f",
   "metadata": {},
   "source": [
    "**Load the USPS dataset**"
   ]
  },
  {
   "cell_type": "code",
   "execution_count": 51,
   "id": "9324cf66",
   "metadata": {},
   "outputs": [],
   "source": [
    "file_path = 'usps.h5'\n",
    "\n",
    "with h5py.File(file_path, 'r') as hf:\n",
    "    train = hf.get('train')\n",
    "    X_train = train.get('data')[:]\n",
    "    y_train = train.get('target')[:]\n",
    "    test = hf.get('test')\n",
    "    X_test = test.get('data')[:]\n",
    "    y_test = test.get('target')[:]\n"
   ]
  },
  {
   "cell_type": "markdown",
   "id": "4434c84c",
   "metadata": {},
   "source": [
    "**Visualize some training images\n",
    "We will visualize the first 10 training images in the dataset. We can adjust num_images and figsize as needed.**"
   ]
  },
  {
   "cell_type": "code",
   "execution_count": 52,
   "id": "885b756f",
   "metadata": {
    "scrolled": true
   },
   "outputs": [
    {
     "data": {
      "image/png": "[encoded data removed]",
      "text/plain": [
       "<Figure size 1200x400 with 10 Axes>"
      ]
     },
     "metadata": {},
     "output_type": "display_data"
    }
   ],
   "source": [
    "# Parameters for visualization\n",
    "num_images = 10\n",
    "figsize = (12, 4)\n",
    "\n",
    "# Create a new figure with the specified size\n",
    "fig, axes = plt.subplots(1, num_images, figsize=figsize)\n",
    "\n",
    "# Loop through the desired number of images to display them\n",
    "for idx in range(num_images):\n",
    "    ax = axes[idx]\n",
    "    ax.imshow(X_train[idx].reshape(16, 16), cmap='gray')\n",
    "    ax.axis('off')  # Hide the axis\n",
    "    ax.set_title(f\"Label: {y_train[idx]}\")\n",
    "\n",
    "# Adjust the layout for better visualization\n",
    "plt.tight_layout()\n",
    "plt.show()"
   ]
  },
  {
   "cell_type": "markdown",
   "id": "d11bdf69",
   "metadata": {},
   "source": [
    "**Data Preprocessing**"
   ]
  },
  {
   "cell_type": "code",
   "execution_count": 53,
   "id": "9160e4cd",
   "metadata": {},
   "outputs": [
    {
     "name": "stdout",
     "output_type": "stream",
     "text": [
      "(7291, 256)\n",
      "(7291,)\n",
      "(2007, 256)\n",
      "(2007,)\n"
     ]
    }
   ],
   "source": [
    "X_train = X_train.reshape(X_train.shape[0], 16 * 16).astype('float32') / 255.0\n",
    "X_test = X_test.reshape(X_test.shape[0], 16 * 16).astype('float32') / 255.0\n",
    "print(X_train.shape )\n",
    "print(y_train.shape)\n",
    "print(X_test.shape)\n",
    "print(y_test.shape)\n"
   ]
  },
  {
   "cell_type": "markdown",
   "id": "dd59af1b",
   "metadata": {},
   "source": [
    "**A loop to evaluate KNN for k values from 3 to 5.This will perform cross-validation, training, and evaluation for k values from 3 to 5 and will print out all the related metrics for each \n",
    "k.**"
   ]
  },
  {
   "cell_type": "code",
   "execution_count": 54,
   "id": "d51636b4",
   "metadata": {},
   "outputs": [
    {
     "name": "stdout",
     "output_type": "stream",
     "text": [
      "\n",
      "Evaluating model with K = 3 neighbors:\n",
      "Accuracy for each fold: [0.96984236 0.95816187 0.96433471 0.95473251 0.96844993]\n",
      "Average accuracy across folds: 0.963104274024996\n",
      "\n",
      "Test Accuracy: 0.9446935724962631\n",
      "\n",
      "Confusion Matrix:\n",
      " [[355   0   3   0   0   0   0   0   0   1]\n",
      " [  0 258   0   0   3   0   2   1   0   0]\n",
      " [  8   0 183   1   1   0   0   2   3   0]\n",
      " [  3   0   2 153   0   6   0   1   0   1]\n",
      " [  0   2   0   0 183   2   2   2   1   8]\n",
      " [  5   0   3   3   0 144   0   0   1   4]\n",
      " [  3   1   1   0   2   0 163   0   0   0]\n",
      " [  0   1   1   1   4   0   0 138   1   1]\n",
      " [  4   0   3   4   0   1   0   1 151   2]\n",
      " [  2   0   0   0   3   0   0   4   0 168]]\n",
      "\n",
      "Precision: 0.9444025152985926\n",
      "Recall: 0.938344997342736\n",
      "--------------------------------------------------\n",
      "\n",
      "Evaluating model with K = 4 neighbors:\n",
      "Accuracy for each fold: [0.96778615 0.95679012 0.96570645 0.95336077 0.96364883]\n",
      "Average accuracy across folds: 0.9614584655480247\n",
      "\n",
      "Test Accuracy: 0.9431988041853513\n",
      "\n",
      "Confusion Matrix:\n",
      " [[355   0   3   0   0   0   0   0   0   1]\n",
      " [  0 258   0   0   4   0   2   0   0   0]\n",
      " [  7   0 183   1   1   0   1   2   3   0]\n",
      " [  3   0   2 155   0   3   0   1   0   2]\n",
      " [  0   3   1   0 184   0   2   2   1   7]\n",
      " [  2   0   2   9   0 143   0   0   0   4]\n",
      " [  4   0   2   0   2   0 162   0   0   0]\n",
      " [  0   2   1   1   3   1   0 137   1   1]\n",
      " [  6   2   1   4   0   2   0   2 148   1]\n",
      " [  1   0   0   0   3   0   0   4   1 168]]\n",
      "\n",
      "Precision: 0.9426524280281161\n",
      "Recall: 0.9363490803012207\n",
      "--------------------------------------------------\n",
      "\n",
      "Evaluating model with K = 5 neighbors:\n",
      "Accuracy for each fold: [0.96572995 0.95747599 0.96364883 0.95061728 0.96776406]\n",
      "Average accuracy across folds: 0.9610472249722879\n",
      "\n",
      "Test Accuracy: 0.9446935724962631\n",
      "\n",
      "Confusion Matrix:\n",
      " [[354   0   3   0   0   0   1   0   0   1]\n",
      " [  0 259   0   0   3   0   2   0   0   0]\n",
      " [  7   0 182   1   1   0   1   2   4   0]\n",
      " [  2   0   2 154   0   5   0   1   0   2]\n",
      " [  0   4   1   0 183   0   2   2   0   8]\n",
      " [  5   0   1   7   0 144   0   0   0   3]\n",
      " [  3   0   2   0   2   0 163   0   0   0]\n",
      " [  0   3   1   0   4   1   0 138   0   0]\n",
      " [  5   0   0   4   0   2   1   1 151   2]\n",
      " [  1   0   0   0   3   1   0   4   0 168]]\n",
      "\n",
      "Precision: 0.9441646691474949\n",
      "Recall: 0.9385425928229942\n",
      "--------------------------------------------------\n"
     ]
    }
   ],
   "source": [
    "k_values = [3, 4, 5]\n",
    "\n",
    "for k in k_values:\n",
    "    \n",
    "    # Cross-validation\n",
    "    scores = cross_val_score(KNeighborsClassifier(n_neighbors=k), X_train, y_train, cv=5, scoring='accuracy')\n",
    "    mean_accuracy = scores.mean()\n",
    "    \n",
    "    # Train and evaluate KNN\n",
    "    knn_classifier = KNeighborsClassifier(n_neighbors=k)\n",
    "    knn_classifier.fit(X_train, y_train)\n",
    "    y_pred = knn_classifier.predict(X_test)\n",
    "    \n",
    "    # Compute metrics\n",
    "    test_accuracy = accuracy_score(y_test, y_pred)\n",
    "    conf_matrix = confusion_matrix(y_test, y_pred)\n",
    "    precision, recall, _, _ = precision_recall_fscore_support(y_test, y_pred, average='macro')\n",
    "    \n",
    "    # Print the results\n",
    "    print(f\"\\nEvaluating model with K = {k} neighbors:\")\n",
    "    print(\"Accuracy for each fold:\", scores)\n",
    "    print(\"Average accuracy across folds:\", mean_accuracy)\n",
    "    print(\"\\nTest Accuracy:\", test_accuracy)\n",
    "    print(\"\\nConfusion Matrix:\\n\", conf_matrix)\n",
    "    print(\"\\nPrecision:\", precision)\n",
    "    print(\"Recall:\", recall)\n",
    "    print('-' * 50)\n"
   ]
  },
  {
   "cell_type": "code",
   "execution_count": null,
   "id": "f0391911",
   "metadata": {},
   "outputs": [],
   "source": []
  }
 ],
 "metadata": {
  "kernelspec": {
   "display_name": "Python 3 (ipykernel)",
   "language": "python",
   "name": "python3"
  },
  "language_info": {
   "codemirror_mode": {
    "name": "ipython",
    "version": 3
   },
   "file_extension": ".py",
   "mimetype": "text/x-python",
   "name": "python",
   "nbconvert_exporter": "python",
   "pygments_lexer": "ipython3",
   "version": "3.10.9"
  }
 },
 "nbformat": 4,
 "nbformat_minor": 5
}
